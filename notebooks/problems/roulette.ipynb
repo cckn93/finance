{
 "cells": [
  {
   "cell_type": "code",
   "execution_count": 27,
   "metadata": {},
   "outputs": [],
   "source": [
    "import  random\n",
    "import pandas as pd"
   ]
  },
  {
   "cell_type": "code",
   "execution_count": 2,
   "metadata": {},
   "outputs": [],
   "source": [
    "class FiarRoulette():\n",
    "    def __init__(self):\n",
    "        self.pockets = []\n",
    "        for i in range(1,37):\n",
    "            self.pockets.append(i)\n",
    "        self.ball=None\n",
    "        self.pocketOdds = len(self.pockets) - 1\n",
    "    def spin(self):\n",
    "        self.ball = random.choice(self.pockets)\n",
    "    def betPocket(self, pocket, amt):\n",
    "        if str(pocket) == str(self.ball):\n",
    "            return amt*self.pocketOdds\n",
    "        else: return -amt\n",
    "    def __str__(self):\n",
    "        return 'Fair Roulette'"
   ]
  },
  {
   "cell_type": "code",
   "execution_count": 29,
   "metadata": {},
   "outputs": [
    {
     "name": "stdout",
     "output_type": "stream",
     "text": [
      "bet on 11 with 10, and result is 13, \n",
      "bet on 4 with 10, and result is 4, \n",
      "bet on 17 with 10, and result is 24, \n",
      "bet on 32 with 10, and result is 14, \n",
      "bet on 6 with 10, and result is 9, \n",
      "bet on 21 with 10, and result is 19, \n",
      "bet on 17 with 10, and result is 13, \n",
      "bet on 24 with 10, and result is 11, \n",
      "bet on 22 with 10, and result is 16, \n",
      "bet on 5 with 10, and result is 22, \n",
      "bet on 18 with 10, and result is 7, \n",
      "bet on 20 with 10, and result is 23, \n",
      "bet on 18 with 10, and result is 7, \n",
      "bet on 33 with 10, and result is 10, \n",
      "bet on 35 with 10, and result is 34, \n",
      "bet on 28 with 10, and result is 20, \n",
      "bet on 32 with 10, and result is 24, \n",
      "bet on 35 with 10, and result is 11, \n",
      "bet on 32 with 10, and result is 17, \n",
      "bet on 11 with 10, and result is 4, \n",
      "bet on 20 with 10, and result is 26, \n",
      "bet on 27 with 10, and result is 15, \n",
      "bet on 7 with 10, and result is 4, \n",
      "bet on 19 with 10, and result is 4, \n",
      "bet on 24 with 10, and result is 22, \n",
      "bet on 6 with 10, and result is 25, \n",
      "bet on 10 with 10, and result is 18, \n",
      "bet on 8 with 10, and result is 24, \n",
      "bet on 22 with 10, and result is 21, \n",
      "bet on 16 with 10, and result is 11, \n",
      "bet on 3 with 10, and result is 28, \n",
      "bet on 11 with 10, and result is 23, \n",
      "bet on 32 with 10, and result is 19, \n",
      "bet on 27 with 10, and result is 8, \n",
      "bet on 9 with 10, and result is 7, \n",
      "bet on 12 with 10, and result is 26, \n",
      "bet on 31 with 10, and result is 5, \n",
      "bet on 23 with 10, and result is 6, \n",
      "bet on 18 with 10, and result is 20, \n",
      "bet on 19 with 10, and result is 17, \n",
      "bet on 34 with 10, and result is 10, \n",
      "bet on 5 with 10, and result is 25, \n",
      "bet on 32 with 10, and result is 4, \n",
      "bet on 11 with 10, and result is 4, \n",
      "bet on 7 with 10, and result is 2, \n",
      "bet on 6 with 10, and result is 11, \n",
      "bet on 11 with 10, and result is 20, \n",
      "bet on 15 with 10, and result is 17, \n",
      "bet on 9 with 10, and result is 9, \n",
      "bet on 19 with 10, and result is 3, \n",
      "bet on 30 with 10, and result is 6, \n",
      "bet on 8 with 10, and result is 6, \n",
      "bet on 27 with 10, and result is 20, \n",
      "bet on 36 with 10, and result is 14, \n",
      "bet on 24 with 10, and result is 28, \n",
      "bet on 30 with 10, and result is 20, \n",
      "bet on 1 with 10, and result is 26, \n",
      "bet on 32 with 10, and result is 33, \n",
      "bet on 35 with 10, and result is 25, \n",
      "bet on 11 with 10, and result is 4, \n",
      "bet on 19 with 10, and result is 27, \n",
      "bet on 20 with 10, and result is 33, \n",
      "bet on 9 with 10, and result is 15, \n",
      "bet on 36 with 10, and result is 14, \n",
      "bet on 23 with 10, and result is 35, \n",
      "bet on 12 with 10, and result is 34, \n",
      "bet on 21 with 10, and result is 29, \n",
      "bet on 28 with 10, and result is 19, \n",
      "bet on 10 with 10, and result is 17, \n",
      "bet on 20 with 10, and result is 15, \n",
      "bet on 16 with 10, and result is 34, \n",
      "bet on 8 with 10, and result is 32, \n",
      "bet on 15 with 10, and result is 30, \n",
      "bet on 24 with 10, and result is 21, \n",
      "bet on 32 with 10, and result is 32, \n",
      "bet on 33 with 10, and result is 3, \n",
      "bet on 36 with 10, and result is 34, \n",
      "bet on 10 with 10, and result is 15, \n",
      "bet on 34 with 10, and result is 26, \n",
      "bet on 26 with 10, and result is 23, \n",
      "bet on 20 with 10, and result is 4, \n",
      "bet on 19 with 10, and result is 23, \n",
      "bet on 18 with 10, and result is 22, \n",
      "bet on 16 with 10, and result is 5, \n",
      "bet on 17 with 10, and result is 26, \n",
      "bet on 5 with 10, and result is 30, \n",
      "bet on 13 with 10, and result is 34, \n",
      "bet on 26 with 10, and result is 34, \n",
      "bet on 5 with 10, and result is 29, \n",
      "bet on 12 with 10, and result is 5, \n",
      "bet on 2 with 10, and result is 34, \n",
      "bet on 21 with 10, and result is 31, \n",
      "bet on 6 with 10, and result is 9, \n",
      "bet on 13 with 10, and result is 36, \n",
      "bet on 24 with 10, and result is 13, \n",
      "bet on 19 with 10, and result is 6, \n",
      "bet on 22 with 10, and result is 28, \n",
      "bet on 25 with 10, and result is 31, \n",
      "bet on 30 with 10, and result is 23, \n",
      "bet on 18 with 10, and result is 4, \n"
     ]
    }
   ],
   "source": [
    "roulette = FiarRoulette()\n",
    "amt = 10\n",
    "attempts = 100\n",
    "pnl=0\n",
    "pnl_series = []\n",
    "for i in range(attempts):\n",
    "    pocket = random.choice(range(1,37))\n",
    "    roulette.spin()\n",
    "    pnl+=roulette.betPocket(pocket, amt)\n",
    "    pnl_series.append(pnl)\n",
    "    print(\"bet on {} with {}, and result is {}, \".format(pocket, amt, roulette.ball))"
   ]
  },
  {
   "cell_type": "code",
   "execution_count": 30,
   "metadata": {},
   "outputs": [
    {
     "data": {
      "text/plain": [
       "<Axes: >"
      ]
     },
     "execution_count": 30,
     "metadata": {},
     "output_type": "execute_result"
    },
    {
     "data": {
      "image/png": "[encoded data removed]",
      "text/plain": [
       "<Figure size 432x288 with 1 Axes>"
      ]
     },
     "metadata": {
      "needs_background": "light"
     },
     "output_type": "display_data"
    }
   ],
   "source": [
    "pd.Series(pnl_series).plot()"
   ]
  }
 ],
 "metadata": {
  "kernelspec": {
   "display_name": "Python 3",
   "language": "python",
   "name": "python3"
  },
  "language_info": {
   "codemirror_mode": {
    "name": "ipython",
    "version": 3
   },
   "file_extension": ".py",
   "mimetype": "text/x-python",
   "name": "python",
   "nbconvert_exporter": "python",
   "pygments_lexer": "ipython3",
   "version": "3.9.1"
  }
 },
 "nbformat": 4,
 "nbformat_minor": 2
}
