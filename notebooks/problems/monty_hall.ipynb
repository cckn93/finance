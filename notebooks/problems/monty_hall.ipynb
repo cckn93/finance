{
 "cells": [
  {
   "cell_type": "code",
   "execution_count": 1,
   "metadata": {},
   "outputs": [],
   "source": [
    "import numpy as np"
   ]
  },
  {
   "cell_type": "code",
   "execution_count": 5,
   "metadata": {},
   "outputs": [],
   "source": [
    "def get_data():\n",
    "    data = np.random.uniform(size=3)\n",
    "    return [x==max(data) for x in data]"
   ]
  },
  {
   "cell_type": "code",
   "execution_count": 13,
   "metadata": {},
   "outputs": [
    {
     "data": {
      "text/plain": [
       "str"
      ]
     },
     "execution_count": 13,
     "metadata": {},
     "output_type": "execute_result"
    }
   ],
   "source": [
    "type(bin(7))"
   ]
  },
  {
   "cell_type": "code",
   "execution_count": 17,
   "metadata": {},
   "outputs": [
    {
     "data": {
      "text/plain": [
       "1"
      ]
     },
     "execution_count": 17,
     "metadata": {},
     "output_type": "execute_result"
    }
   ],
   "source": [
    "int(True)"
   ]
  },
  {
   "cell_type": "code",
   "execution_count": 46,
   "metadata": {},
   "outputs": [],
   "source": [
    "\n",
    "# set the case, denote:\n",
    "# stage1: set the correct answer, denote as 1\n",
    "# stage2: pick by player, denote as 2\n",
    "# stage3: door opened by the game host, denote as 4\n",
    "\n",
    "DOORS = 3\n",
    "CORRECT = 1\n",
    "PLAYER_PICK = 2\n",
    "DOOR_OPENED = 4\n",
    "\n",
    "len = DOORS\n",
    "total_count = 0\n",
    "win_count = 0"
   ]
  },
  {
   "cell_type": "code",
   "execution_count": 69,
   "metadata": {},
   "outputs": [],
   "source": [
    "def run(switch:bool):\n",
    "    total_count=0\n",
    "    win_count=0\n",
    "    for i in range(len): # set correct answer\n",
    "        for p in range(len): # set player's pick\n",
    "            for g in range(len): # set game master's pick\n",
    "                for s in range(len): # switched player's pick\n",
    "                    data = np.zeros(len)\n",
    "                    data[i] = CORRECT\n",
    "                    data[p] += PLAYER_PICK\n",
    "                    data[g] += DOOR_OPENED\n",
    "                    if g==i or g==p: # game master cannot open the correct door\n",
    "                        continue\n",
    "                    if switch:\n",
    "                        # swtiched door cannot be opened door; swtiched door cannot be the same\n",
    "                        if (s == g) or (s == p):\n",
    "                            continue\n",
    "                        data[p] -= PLAYER_PICK\n",
    "                        data[s] += PLAYER_PICK\n",
    "                    # check result\n",
    "                    win = any([bin(int(x))[-2:] == \"11\" for x in data])\n",
    "                    win_count += win\n",
    "                    total_count+=1        \n",
    "                    print(\"i={}, p={}, g={}, s={}, win={}\".format(i, p, g, s, win))\n",
    "    print(win_count/total_count)"
   ]
  },
  {
   "cell_type": "code",
   "execution_count": 70,
   "metadata": {},
   "outputs": [
    {
     "name": "stdout",
     "output_type": "stream",
     "text": [
      "i=0, p=0, g=1, s=2, win=False\n",
      "i=0, p=0, g=2, s=1, win=False\n",
      "i=0, p=1, g=2, s=0, win=True\n",
      "i=0, p=2, g=1, s=0, win=True\n",
      "i=1, p=0, g=2, s=1, win=True\n",
      "i=1, p=1, g=0, s=2, win=False\n",
      "i=1, p=1, g=2, s=0, win=False\n",
      "i=1, p=2, g=0, s=1, win=True\n",
      "i=2, p=0, g=1, s=2, win=True\n",
      "i=2, p=1, g=0, s=2, win=True\n",
      "i=2, p=2, g=0, s=1, win=False\n",
      "i=2, p=2, g=1, s=0, win=False\n",
      "0.5\n"
     ]
    }
   ],
   "source": [
    "run(True)"
   ]
  },
  {
   "cell_type": "code",
   "execution_count": 55,
   "metadata": {},
   "outputs": [
    {
     "name": "stdout",
     "output_type": "stream",
     "text": [
      "0.3333333333333333\n"
     ]
    }
   ],
   "source": [
    "run(False)"
   ]
  },
  {
   "cell_type": "code",
   "execution_count": 59,
   "metadata": {},
   "outputs": [
    {
     "name": "stdout",
     "output_type": "stream",
     "text": [
      " I won 0 times \n",
      " Win percentage with switching: 0.00%\n"
     ]
    }
   ],
   "source": [
    "# in-built module that generates\n",
    "# random numbers\n",
    "import random\n",
    "\n",
    "def monty_game(chances, switch_strategy=True):\n",
    "    \n",
    "    global goatcount\n",
    "    global carcount\n",
    "    \n",
    "    carcount = 0\n",
    "    goatcount = 0\n",
    "\n",
    "    for i in range(chances):\n",
    "        doors = [0, 0, 0]\n",
    "        # randomly replaces one of the goats with a car\n",
    "        car_door = random.randint(0,2)\n",
    "        doors[car_door] = 1\n",
    "        \n",
    "        # contestant makes a choice\n",
    "        first_choice = random.randint(0,2)\n",
    "        \n",
    "        # monty reveals a goat from a door that hasn't\n",
    "        # been opened by the contestant\n",
    "        monty_choice = [x for x in range(3) if x != first_choice and doors[x]==0]\n",
    "        \n",
    "        # .choice() method from the random module\n",
    "        second_choice = random.choice(monty_choice)\n",
    "        \n",
    "        # switch strategy\n",
    "        if switch_strategy:\n",
    "            third_choice = next(x for x in range(3) if x != first_choice and x != second_choice)\n",
    "        \n",
    "            if doors[third_choice] == 1:\n",
    "                carcount += 1\n",
    "            else:\n",
    "                goatcount +=1\n",
    "        \n",
    "    wining_percentage = (carcount/chances)*100\n",
    "    return wining_percentage\n",
    "\n",
    "# sets the number of iterations to 1000\n",
    "chances = 1000\n",
    "\n",
    "# calls the function monty_game\n",
    "switch_win_percentage = monty_game(chances, switch_strategy=False)\n",
    "\n",
    "# f string\n",
    "print(f\" I won {carcount} times \")\n",
    "print(f\" Win percentage with switching: {switch_win_percentage:.2f}%\")"
   ]
  }
 ],
 "metadata": {
  "kernelspec": {
   "display_name": "Python 3",
   "language": "python",
   "name": "python3"
  },
  "language_info": {
   "codemirror_mode": {
    "name": "ipython",
    "version": 3
   },
   "file_extension": ".py",
   "mimetype": "text/x-python",
   "name": "python",
   "nbconvert_exporter": "python",
   "pygments_lexer": "ipython3",
   "version": "3.9.1"
  }
 },
 "nbformat": 4,
 "nbformat_minor": 2
}
