{
 "cells": [
  {
   "cell_type": "code",
   "execution_count": 1,
   "metadata": {},
   "outputs": [],
   "source": [
    "import numpy as np"
   ]
  },
  {
   "cell_type": "code",
   "execution_count": 2,
   "metadata": {},
   "outputs": [],
   "source": [
    "def get_data():\n",
    "    data = np.random.uniform(size=3)\n",
    "    return [x==max(data) for x in data]"
   ]
  },
  {
   "cell_type": "code",
   "execution_count": 3,
   "metadata": {},
   "outputs": [],
   "source": [
    "\n",
    "# set the case, denote:\n",
    "# stage1: set the correct answer, denote as 1\n",
    "# stage2: pick by player, denote as 2\n",
    "# stage3: door opened by the game host, denote as 4\n",
    "\n",
    "DOORS = 3\n",
    "CORRECT = 1\n",
    "PLAYER_PICK = 2\n",
    "DOOR_OPENED = 4\n",
    "\n",
    "length = DOORS\n",
    "total_count = 0\n",
    "win_count = 0"
   ]
  },
  {
   "cell_type": "code",
   "execution_count": null,
   "metadata": {},
   "outputs": [],
   "source": [
    "# rules are as such:\n",
    "# there're 3 doors in front of you. behind the door, it can be a goat or a car\n",
    "# there're 2 doors with a goat and 1 door with a car\n",
    "# if you open the door with a car, you win the car\n",
    "\n",
    "# after you made your selection, monty hall would open a door that has a goat\n",
    "# so there're only 2 doors left\n",
    "\n",
    "# you have an option to decide to switch the door"
   ]
  },
  {
   "cell_type": "code",
   "execution_count": 4,
   "metadata": {},
   "outputs": [],
   "source": [
    "# mistake here is that, monty hall's selection is not an independent variable\n",
    "\n",
    "def run(switch:bool, length=3):\n",
    "    total_count=0\n",
    "    win_count=0\n",
    "    for i in range(length): # set correct answer\n",
    "        for p in range(length): # set player's pick\n",
    "            for g in range(length): # set game master's pick\n",
    "                for s in range(length): # switched player's pick\n",
    "                    data = np.zeros(len)\n",
    "                    data[i] = CORRECT\n",
    "                    data[p] += PLAYER_PICK\n",
    "                    data[g] += DOOR_OPENED\n",
    "                    if g==i or g==p: # game master cannot open the correct door\n",
    "                        continue\n",
    "                    if switch:\n",
    "                        # swtiched door cannot be opened door; swtiched door cannot be the same\n",
    "                        if (s == g) or (s == p):\n",
    "                            continue\n",
    "                        data[p] -= PLAYER_PICK\n",
    "                        data[s] += PLAYER_PICK\n",
    "                    # check result\n",
    "                    win = any([bin(int(x))[-2:] == \"11\" for x in data])\n",
    "                    win_count += win\n",
    "                    total_count+=1        \n",
    "                    print(\"i={}, p={}, g={}, s={}, win={}\".format(i, p, g, s, win))\n",
    "    print(win_count/total_count)"
   ]
  },
  {
   "cell_type": "code",
   "execution_count": 5,
   "metadata": {},
   "outputs": [],
   "source": [
    "x = np.array([1,2,3])"
   ]
  },
  {
   "cell_type": "code",
   "execution_count": 6,
   "metadata": {},
   "outputs": [
    {
     "data": {
      "text/plain": [
       "3"
      ]
     },
     "execution_count": 6,
     "metadata": {},
     "output_type": "execute_result"
    }
   ],
   "source": [
    "[i for i in range(len(x)) if x]"
   ]
  },
  {
   "cell_type": "code",
   "execution_count": 43,
   "metadata": {},
   "outputs": [],
   "source": [
    "# due to symmetry, we can generalize the car being always in door 1\n",
    "\n",
    "def run(switch:bool, length=3):\n",
    "\n",
    "    # doors = np.array([1,0,0])\n",
    "    total_count=0\n",
    "    win_count=0\n",
    "    for p in range(length):\n",
    "        doors = np.array([1, 0, 0])\n",
    "        print(\"case {}\".format(p))\n",
    "        print(\"p selected {}\".format(p))\n",
    "        doors[p] +=2\n",
    "        mh_select = np.where(doors==0)[0]\n",
    "        print(\"doors\", doors)\n",
    "        print(\"mh can select\", mh_select)\n",
    "        for m in mh_select:\n",
    "            print(\"mh selected\", m)\n",
    "            doors[m] +=4\n",
    "            if switch:\n",
    "                s = [x for x in range(length) if x not in [p, m]][0]\n",
    "                print(\"s\",s)\n",
    "                doors[s]+=2\n",
    "                doors[p]-=2\n",
    "            else:\n",
    "                s=np.nan\n",
    "            # the door MH select is dependent on p and 1\n",
    "            win = any([bin(int(x))[-2:] == \"11\" for x in doors])\n",
    "            win_count+= win/len(mh_select)\n",
    "            total_count+=1/len(mh_select)\n",
    "            print(\"p={}, m={}, s={}, win={}\".format(p, m, s, win))\n",
    "            print(\"\\n\")\n",
    "        print(\"\\n\")\n",
    "\n",
    "    print(win_count/total_count)"
   ]
  },
  {
   "cell_type": "code",
   "execution_count": 45,
   "metadata": {},
   "outputs": [
    {
     "name": "stdout",
     "output_type": "stream",
     "text": [
      "case 0\n",
      "p selected 0\n",
      "doors [3 0 0]\n",
      "mh can select [1 2]\n",
      "mh selected 1\n",
      "p=0, m=1, s=nan, win=True\n",
      "\n",
      "\n",
      "mh selected 2\n",
      "p=0, m=2, s=nan, win=True\n",
      "\n",
      "\n",
      "\n",
      "\n",
      "case 1\n",
      "p selected 1\n",
      "doors [1 2 0]\n",
      "mh can select [2]\n",
      "mh selected 2\n",
      "p=1, m=2, s=nan, win=False\n",
      "\n",
      "\n",
      "\n",
      "\n",
      "case 2\n",
      "p selected 2\n",
      "doors [1 0 2]\n",
      "mh can select [1]\n",
      "mh selected 1\n",
      "p=2, m=1, s=nan, win=False\n",
      "\n",
      "\n",
      "\n",
      "\n",
      "0.3333333333333333\n"
     ]
    }
   ],
   "source": [
    "run(False)"
   ]
  }
 ],
 "metadata": {
  "kernelspec": {
   "display_name": "Python 3",
   "language": "python",
   "name": "python3"
  },
  "language_info": {
   "codemirror_mode": {
    "name": "ipython",
    "version": 3
   },
   "file_extension": ".py",
   "mimetype": "text/x-python",
   "name": "python",
   "nbconvert_exporter": "python",
   "pygments_lexer": "ipython3",
   "version": "3.9.1"
  }
 },
 "nbformat": 4,
 "nbformat_minor": 2
}
