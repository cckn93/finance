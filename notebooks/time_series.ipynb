{
 "cells": [
  {
   "cell_type": "code",
   "execution_count": 21,
   "metadata": {},
   "outputs": [],
   "source": [
    "import numpy as np\n",
    "import pandas as pd\n",
    "import pytz\n",
    "from datetime import datetime, date, timedelta\n",
    "from dateutil.relativedelta import relativedelta"
   ]
  },
  {
   "cell_type": "markdown",
   "metadata": {},
   "source": [
    "instantiate date/time objects"
   ]
  },
  {
   "cell_type": "code",
   "execution_count": 6,
   "metadata": {},
   "outputs": [],
   "source": [
    "x = pd.to_datetime(\"2024-05-06\")\n",
    "x = pd.to_datetime(\"2024-05-06 23:00:00+08:00\")\n",
    "x = pd.to_datetime(\"2024-05-06 23:00:00\").tz_localize(\"UTC\")\n",
    "x.tz_localize(\"America/Chicago\")\n",
    "x.tz_convert(\"Asia/Hong_Kong\")\n",
    "x.value # timestampe value in ns\n",
    "\n",
    "# datetime index\n",
    "dates = pd.date_range('2024-01-01', '2024-12-31', freq=\"WOM-3FRI\")\n",
    "dates = pd.date_range('2024-01-01', '2024-12-31', freq=\"B\")"
   ]
  },
  {
   "cell_type": "code",
   "execution_count": 30,
   "metadata": {},
   "outputs": [],
   "source": [
    "df = pd.DataFrame(index=dates, data=dates)"
   ]
  },
  {
   "cell_type": "code",
   "execution_count": null,
   "metadata": {},
   "outputs": [],
   "source": [
    "df.resample('1M').agg('first')"
   ]
  },
  {
   "cell_type": "markdown",
   "metadata": {},
   "source": [
    "shift time/ date"
   ]
  },
  {
   "cell_type": "code",
   "execution_count": null,
   "metadata": {},
   "outputs": [],
   "source": [
    "x + timedelta()\n",
    "x + relativedelta(months=3)"
   ]
  },
  {
   "cell_type": "code",
   "execution_count": null,
   "metadata": {},
   "outputs": [],
   "source": []
  },
  {
   "cell_type": "markdown",
   "metadata": {},
   "source": [
    "example in shifting data"
   ]
  },
  {
   "cell_type": "code",
   "execution_count": 43,
   "metadata": {},
   "outputs": [],
   "source": [
    "dates = pd.date_range('2024-01-01', '2024-12-31', freq='B')\n",
    "data = np.random.standard_normal(len(dates))\n",
    "df = pd.DataFrame(index=dates, data=data, columns=['original'])"
   ]
  },
  {
   "cell_type": "code",
   "execution_count": 60,
   "metadata": {},
   "outputs": [],
   "source": [
    "df['rolling_mean'] = df['original'].rolling(5).mean()\n",
    "df['pct_change'] = df['original'].pct_change()"
   ]
  },
  {
   "cell_type": "code",
   "execution_count": 61,
   "metadata": {},
   "outputs": [
    {
     "data": {
      "text/html": [
       "<div>\n",
       "<style scoped>\n",
       "    .dataframe tbody tr th:only-of-type {\n",
       "        vertical-align: middle;\n",
       "    }\n",
       "\n",
       "    .dataframe tbody tr th {\n",
       "        vertical-align: top;\n",
       "    }\n",
       "\n",
       "    .dataframe thead th {\n",
       "        text-align: right;\n",
       "    }\n",
       "</style>\n",
       "<table border=\"1\" class=\"dataframe\">\n",
       "  <thead>\n",
       "    <tr style=\"text-align: right;\">\n",
       "      <th></th>\n",
       "      <th>original</th>\n",
       "      <th>rolling_mean</th>\n",
       "      <th>pct_change</th>\n",
       "    </tr>\n",
       "  </thead>\n",
       "  <tbody>\n",
       "    <tr>\n",
       "      <th>2024-01-01</th>\n",
       "      <td>0.149956</td>\n",
       "      <td>NaN</td>\n",
       "      <td>NaN</td>\n",
       "    </tr>\n",
       "    <tr>\n",
       "      <th>2024-01-02</th>\n",
       "      <td>-0.420670</td>\n",
       "      <td>NaN</td>\n",
       "      <td>-3.805300</td>\n",
       "    </tr>\n",
       "    <tr>\n",
       "      <th>2024-01-03</th>\n",
       "      <td>1.552616</td>\n",
       "      <td>NaN</td>\n",
       "      <td>-4.690815</td>\n",
       "    </tr>\n",
       "    <tr>\n",
       "      <th>2024-01-04</th>\n",
       "      <td>0.292398</td>\n",
       "      <td>NaN</td>\n",
       "      <td>-0.811674</td>\n",
       "    </tr>\n",
       "    <tr>\n",
       "      <th>2024-01-05</th>\n",
       "      <td>-1.857487</td>\n",
       "      <td>-0.056637</td>\n",
       "      <td>-7.352590</td>\n",
       "    </tr>\n",
       "    <tr>\n",
       "      <th>...</th>\n",
       "      <td>...</td>\n",
       "      <td>...</td>\n",
       "      <td>...</td>\n",
       "    </tr>\n",
       "    <tr>\n",
       "      <th>2024-12-25</th>\n",
       "      <td>-2.195142</td>\n",
       "      <td>-0.573381</td>\n",
       "      <td>-15.565474</td>\n",
       "    </tr>\n",
       "    <tr>\n",
       "      <th>2024-12-26</th>\n",
       "      <td>0.606111</td>\n",
       "      <td>-0.277179</td>\n",
       "      <td>-1.276115</td>\n",
       "    </tr>\n",
       "    <tr>\n",
       "      <th>2024-12-27</th>\n",
       "      <td>0.067823</td>\n",
       "      <td>-0.163669</td>\n",
       "      <td>-0.888101</td>\n",
       "    </tr>\n",
       "    <tr>\n",
       "      <th>2024-12-30</th>\n",
       "      <td>1.046488</td>\n",
       "      <td>-0.064802</td>\n",
       "      <td>14.429706</td>\n",
       "    </tr>\n",
       "    <tr>\n",
       "      <th>2024-12-31</th>\n",
       "      <td>-0.578642</td>\n",
       "      <td>-0.210673</td>\n",
       "      <td>-1.552937</td>\n",
       "    </tr>\n",
       "  </tbody>\n",
       "</table>\n",
       "<p>262 rows × 3 columns</p>\n",
       "</div>"
      ],
      "text/plain": [
       "            original  rolling_mean  pct_change\n",
       "2024-01-01  0.149956           NaN         NaN\n",
       "2024-01-02 -0.420670           NaN   -3.805300\n",
       "2024-01-03  1.552616           NaN   -4.690815\n",
       "2024-01-04  0.292398           NaN   -0.811674\n",
       "2024-01-05 -1.857487     -0.056637   -7.352590\n",
       "...              ...           ...         ...\n",
       "2024-12-25 -2.195142     -0.573381  -15.565474\n",
       "2024-12-26  0.606111     -0.277179   -1.276115\n",
       "2024-12-27  0.067823     -0.163669   -0.888101\n",
       "2024-12-30  1.046488     -0.064802   14.429706\n",
       "2024-12-31 -0.578642     -0.210673   -1.552937\n",
       "\n",
       "[262 rows x 3 columns]"
      ]
     },
     "execution_count": 61,
     "metadata": {},
     "output_type": "execute_result"
    }
   ],
   "source": [
    "df"
   ]
  },
  {
   "cell_type": "code",
   "execution_count": null,
   "metadata": {},
   "outputs": [],
   "source": []
  },
  {
   "cell_type": "code",
   "execution_count": null,
   "metadata": {},
   "outputs": [],
   "source": []
  }
 ],
 "metadata": {
  "kernelspec": {
   "display_name": "Python 3",
   "language": "python",
   "name": "python3"
  },
  "language_info": {
   "codemirror_mode": {
    "name": "ipython",
    "version": 3
   },
   "file_extension": ".py",
   "mimetype": "text/x-python",
   "name": "python",
   "nbconvert_exporter": "python",
   "pygments_lexer": "ipython3",
   "version": "3.9.13"
  }
 },
 "nbformat": 4,
 "nbformat_minor": 2
}
